{
 "cells": [
  {
   "cell_type": "markdown",
   "metadata": {
    "pycharm": {
     "name": "#%% md\n"
    }
   },
   "source": [
    "# Data Science Assessment Task\n",
    "\n",
    "This task involved opening a data file and performing any data science techiques to review the data.\n",
    "\n",
    "### Initial thoughts\n",
    "The task as is set out is around finding the data landscape of the given data and identifying how it relates to the *target* field.\n",
    "\n",
    "### Planned methods:\n",
    "- [x] Open data in Pandas\n",
    "- [ ] Determine Data structure\n",
    "    - [x] Find column types\n",
    "    - [x] identify any abnormalities in the data\n",
    "- [ ] Find missing Values\n",
    "- [ ] Use data with just filled values\n",
    "    - [ ] For more advanced methods, convert the Gender and Target fields both to boolean fields - making the data fully numeric (should be bool not floats)\n",
    "    - [ ] Perform clustering analysis using PCA of data and Y/N data fields to colour\n",
    "    - [ ] Create\n"
   ]
  },
  {
   "cell_type": "markdown",
   "source": [
    "## Initial importing of data"
   ],
   "metadata": {
    "collapsed": false
   }
  },
  {
   "cell_type": "code",
   "execution_count": 99,
   "outputs": [],
   "source": [
    "#Import data opening tools\n",
    "import pandas as pd\n",
    "from tabulate import tabulate"
   ],
   "metadata": {
    "collapsed": false,
    "pycharm": {
     "name": "#%%\n"
    }
   }
  },
  {
   "cell_type": "markdown",
   "source": [
    "Once the tools we are using have been imported, let's import the data file"
   ],
   "metadata": {
    "collapsed": false
   }
  },
  {
   "cell_type": "code",
   "execution_count": 100,
   "outputs": [],
   "source": [
    "#Open Data file\n",
    "data = pd.read_csv(\"analysis_data\",sep=',')"
   ],
   "metadata": {
    "collapsed": false,
    "pycharm": {
     "name": "#%%\n"
    }
   }
  },
  {
   "cell_type": "markdown",
   "source": [
    "## Exploration of data\n",
    "Let's do some simple exploratory analysis of the data"
   ],
   "metadata": {
    "collapsed": false,
    "pycharm": {
     "name": "#%% md\n"
    }
   }
  },
  {
   "cell_type": "code",
   "execution_count": 101,
   "outputs": [
    {
     "data": {
      "text/plain": "     bank_acc_bal  avg_loan_val  spend perc SuperMkt   perc spend Fuel  \\\n0          17.990         10.38                0.2419          0.07871   \n1          20.570         17.77                0.1812          0.05667   \n2          19.690         21.25                0.2069          0.05999   \n3          11.420         20.38                0.2597          0.09744   \n4          20.290         14.34                0.1809          0.05883   \n5          12.450         15.70                0.2087          0.07613   \n6          18.250         19.98                0.1794          0.05742   \n7          13.710         20.83                0.2196          0.07451   \n8          13.000         21.82                0.2350          0.07389   \n9          12.460         24.04                0.2030          0.08243   \n10         16.020         23.24                0.1528          0.05697   \n11         15.780         17.89                0.1842          0.06082   \n12         19.170         24.80                0.2397          0.07800   \n13         15.850         23.95                0.1847          0.05338   \n14         13.730         22.61                0.2069          0.07682   \n15         14.540         27.54                0.2303          0.07077   \n16         14.680         20.13                0.1586          0.05922   \n17         16.130         20.68                0.2164          0.07356   \n18         19.810         22.15                0.1582          0.05395   \n19         13.540         14.36                0.1885          0.05766   \n20         13.080         15.71                0.1967          0.06811   \n21          9.504         12.44                0.1815          0.06905   \n22         15.340         14.26                0.2521          0.07032   \n23         21.160         23.04                0.1769          0.05278   \n24         16.650         21.38                0.1995          0.06330   \n25         17.140         16.40                0.3040          0.07413   \n26         14.580         21.53                0.2252          0.06924   \n27         18.610         20.25                0.1697          0.05699   \n28         15.300         25.27                0.1926          0.06540   \n29         17.570         15.05                0.1739          0.06149   \n..            ...           ...                   ...              ...   \n539         7.691         25.44                0.2037          0.07751   \n540        11.540         14.44                0.1818          0.06782   \n541        14.470         24.99                0.1872          0.06341   \n542        14.740         25.42                0.1840          0.05680   \n543        13.210         28.06                0.1628          0.05781   \n544        13.870         20.70                0.1620          0.06688   \n545        13.620         23.23                0.1664          0.05801   \n546        10.320         16.35                0.1885          0.06201   \n547        10.260         16.58                0.1669          0.06714   \n548         9.683         19.34                0.1580          0.06235   \n549        10.820         24.21                0.1976          0.06328   \n550        10.860         21.48                0.1661          0.05948   \n551        11.130         22.44                0.2030          0.06552   \n552        12.770         29.43                0.1539          0.05637   \n553         9.333         21.94                0.1692          0.06576   \n554        12.880         28.92                0.1566          0.05708   \n555        10.290         27.61                0.1593          0.06127   \n556        10.160         19.59                0.1791          0.06331   \n557         9.423         27.88                0.1742          0.06059   \n558        14.590         22.68                0.1454          0.06147   \n559        11.510         23.93                0.1388          0.06570   \n560        14.050         27.15                0.1537          0.06171   \n561        11.200         29.37                0.1060          0.05502   \n562        15.220         30.62                0.2128          0.07152   \n563        20.920         25.09                0.2149          0.06879   \n564        21.560         22.39                0.1726          0.05623   \n565        20.130         28.25                0.1752          0.05533   \n566        16.600         28.08                0.1590          0.05648   \n567        20.600         29.33                0.2397          0.07016   \n568         7.760         24.54                0.1587          0.05884   \n\n     Years with bank  loan amount  val of propertY   Age  Gender  prev_Salary  \\\n0             8.5890        17.33           2019.0  59.0  Female         32.1   \n1             3.3980        23.41           1956.0  48.0    Male         21.6   \n2             4.5850        25.53           1709.0  72.0  Female         30.5   \n3             3.4450        26.50            567.7  24.0    Male         25.3   \n4             5.4380        16.67           1575.0  50.0    Male         23.0   \n5             2.2170        23.75            741.6  23.0    Male         22.6   \n6             3.1800        27.66           1606.0  36.0  Female         22.0   \n7             3.8560        28.14            897.0  66.0  Female         26.2   \n8             2.4060        30.73            739.3  60.0  Female         32.1   \n9             2.0390        40.68            711.4  29.0    Male         30.0   \n10            2.4660        33.88           1150.0  22.0    Male         18.6   \n11            3.5640        27.28           1299.0  56.0  Female         28.0   \n12           11.0700        29.94           1332.0  53.0    Male         23.7   \n13            2.9030        27.66            876.5  50.0  Female         26.2   \n14            2.0610        32.01            697.7  61.0    Male         24.0   \n15            2.8790        37.13            943.2  34.0  Female         24.7   \n16            3.1950        30.88           1138.0  47.0    Male         30.3   \n17            3.8540        31.48           1315.0  68.0  Female         27.5   \n18            5.8650        30.88           2398.0  38.0    Male         25.4   \n19            2.0580        19.26            711.2  41.0    Male         24.7   \n20            1.3830        20.49            630.5  35.0    Male         21.1   \n21            1.9090        15.66            314.9  25.0  Female         24.3   \n22            3.3840        19.08            980.9  25.0    Male         26.0   \n23            4.3030        35.59           2615.0  61.0  Female         32.0   \n24            5.4550        31.56           2215.0  31.0    Male         29.7   \n25            7.2760        21.40           1461.0  30.0  Female         25.2   \n26            2.1100        33.21            896.9  19.0    Male         19.2   \n27            5.6320        27.26           1403.0  42.0    Male         31.9   \n28            3.4980        36.71           1269.0  63.0    Male         24.4   \n29            4.6550        19.52           1227.0  67.0  Female         25.8   \n..               ...          ...              ...   ...     ...          ...   \n539           1.4450        31.89            223.6   NaN     NaN          NaN   \n540           1.6280        19.68            457.8   NaN     NaN          NaN   \n541           2.6150        31.73            808.9   NaN     NaN          NaN   \n542           2.1770        32.29            826.4   NaN     NaN          NaN   \n543           1.5390        37.17            629.6   NaN     NaN          NaN   \n544           2.0760        24.75            688.6   NaN     NaN          NaN   \n545           2.0660        29.09            729.8   NaN     NaN          NaN   \n546           1.3560        21.77            384.9   NaN     NaN          NaN   \n547           0.9887        22.04            357.4   NaN     NaN          NaN   \n548           2.0540        25.59            364.2   NaN     NaN          NaN   \n549           3.5640        31.45            505.6   NaN     NaN          NaN   \n550           2.1150        24.77            412.3   NaN     NaN          NaN   \n551           1.9940        28.26            436.6   NaN     NaN          NaN   \n552           1.4770        36.00            594.7   NaN     NaN          NaN   \n553           2.1210        25.05            295.8   NaN     NaN          NaN   \n554           1.5020        35.74            595.7   NaN     NaN          NaN   \n555           1.4370        34.91            357.6   NaN     NaN          NaN   \n556           1.6480        22.88            347.3   NaN     NaN          NaN   \n557           3.6180        34.24            330.6   NaN     NaN          NaN   \n558           2.2240        27.27            733.5   NaN     NaN          NaN   \n559           1.9360        37.16            474.2   NaN     NaN          NaN   \n560           2.8880        33.17            706.7   NaN     NaN          NaN   \n561           2.0410        38.30            439.6   NaN     NaN          NaN   \n562           2.3620        42.79            915.0   NaN     NaN          NaN   \n563           8.7580        29.41           1819.0   NaN     NaN          NaN   \n564           7.6730        26.40           2027.0   NaN     NaN          NaN   \n565           5.2030        38.25           1731.0   NaN     NaN          NaN   \n566           3.4250        34.12           1124.0   NaN     NaN          NaN   \n567           5.7720        39.42           1821.0   NaN     NaN          NaN   \n568           2.5480        30.37            268.6   NaN     NaN          NaN   \n\n     last_Bonus  Income target  \n0        101.00   157.0      N  \n1         87.00   183.0      N  \n2         93.00   156.0      N  \n3         84.00   198.0      N  \n4        101.00   192.0      N  \n5         89.00   139.0      N  \n6         90.00   160.0      N  \n7        114.00   255.0      N  \n8         83.00   179.0      N  \n9         85.00   180.0      N  \n10        97.00   114.0      N  \n11        85.00   184.0      N  \n12        92.00   186.0      N  \n13        97.00   186.0      N  \n14        91.00   202.0      N  \n15       118.00   254.0      N  \n16       109.00   207.0      N  \n17       111.00   214.0      N  \n18        84.00   162.0      N  \n19        83.00   187.0      Y  \n20        82.00   156.0      Y  \n21        95.00   162.0      Y  \n22        92.00   187.0      N  \n23       103.67   210.0      N  \n24        88.00   167.0      N  \n25        83.00   178.0      N  \n26        87.00   124.0      N  \n27        83.00   158.0      N  \n28        73.00   160.0      N  \n29       113.00   158.0      N  \n..          ...     ...    ...  \n539         NaN     NaN      Y  \n540         NaN     NaN      Y  \n541         NaN     NaN      Y  \n542         NaN     NaN      Y  \n543         NaN     NaN      Y  \n544         NaN     NaN      Y  \n545         NaN     NaN      Y  \n546         NaN     NaN      Y  \n547         NaN     NaN      Y  \n548         NaN     NaN      Y  \n549         NaN     NaN      Y  \n550         NaN     NaN      Y  \n551         NaN     NaN      Y  \n552         NaN     NaN      Y  \n553         NaN     NaN      Y  \n554         NaN     NaN      Y  \n555         NaN     NaN      Y  \n556         NaN     NaN      Y  \n557         NaN     NaN      Y  \n558         NaN     NaN      Y  \n559         NaN     NaN      Y  \n560         NaN     NaN      Y  \n561         NaN     NaN      Y  \n562         NaN     NaN      N  \n563         NaN     NaN      N  \n564         NaN     NaN      N  \n565         NaN     NaN      N  \n566         NaN     NaN      N  \n567         NaN     NaN      N  \n568         NaN     NaN      Y  \n\n[569 rows x 13 columns]",
      "text/html": "<div>\n<style scoped>\n    .dataframe tbody tr th:only-of-type {\n        vertical-align: middle;\n    }\n\n    .dataframe tbody tr th {\n        vertical-align: top;\n    }\n\n    .dataframe thead th {\n        text-align: right;\n    }\n</style>\n<table border=\"1\" class=\"dataframe\">\n  <thead>\n    <tr style=\"text-align: right;\">\n      <th></th>\n      <th>bank_acc_bal</th>\n      <th>avg_loan_val</th>\n      <th>spend perc SuperMkt</th>\n      <th>perc spend Fuel</th>\n      <th>Years with bank</th>\n      <th>loan amount</th>\n      <th>val of propertY</th>\n      <th>Age</th>\n      <th>Gender</th>\n      <th>prev_Salary</th>\n      <th>last_Bonus</th>\n      <th>Income</th>\n      <th>target</th>\n    </tr>\n  </thead>\n  <tbody>\n    <tr>\n      <th>0</th>\n      <td>17.990</td>\n      <td>10.38</td>\n      <td>0.2419</td>\n      <td>0.07871</td>\n      <td>8.5890</td>\n      <td>17.33</td>\n      <td>2019.0</td>\n      <td>59.0</td>\n      <td>Female</td>\n      <td>32.1</td>\n      <td>101.00</td>\n      <td>157.0</td>\n      <td>N</td>\n    </tr>\n    <tr>\n      <th>1</th>\n      <td>20.570</td>\n      <td>17.77</td>\n      <td>0.1812</td>\n      <td>0.05667</td>\n      <td>3.3980</td>\n      <td>23.41</td>\n      <td>1956.0</td>\n      <td>48.0</td>\n      <td>Male</td>\n      <td>21.6</td>\n      <td>87.00</td>\n      <td>183.0</td>\n      <td>N</td>\n    </tr>\n    <tr>\n      <th>2</th>\n      <td>19.690</td>\n      <td>21.25</td>\n      <td>0.2069</td>\n      <td>0.05999</td>\n      <td>4.5850</td>\n      <td>25.53</td>\n      <td>1709.0</td>\n      <td>72.0</td>\n      <td>Female</td>\n      <td>30.5</td>\n      <td>93.00</td>\n      <td>156.0</td>\n      <td>N</td>\n    </tr>\n    <tr>\n      <th>3</th>\n      <td>11.420</td>\n      <td>20.38</td>\n      <td>0.2597</td>\n      <td>0.09744</td>\n      <td>3.4450</td>\n      <td>26.50</td>\n      <td>567.7</td>\n      <td>24.0</td>\n      <td>Male</td>\n      <td>25.3</td>\n      <td>84.00</td>\n      <td>198.0</td>\n      <td>N</td>\n    </tr>\n    <tr>\n      <th>4</th>\n      <td>20.290</td>\n      <td>14.34</td>\n      <td>0.1809</td>\n      <td>0.05883</td>\n      <td>5.4380</td>\n      <td>16.67</td>\n      <td>1575.0</td>\n      <td>50.0</td>\n      <td>Male</td>\n      <td>23.0</td>\n      <td>101.00</td>\n      <td>192.0</td>\n      <td>N</td>\n    </tr>\n    <tr>\n      <th>5</th>\n      <td>12.450</td>\n      <td>15.70</td>\n      <td>0.2087</td>\n      <td>0.07613</td>\n      <td>2.2170</td>\n      <td>23.75</td>\n      <td>741.6</td>\n      <td>23.0</td>\n      <td>Male</td>\n      <td>22.6</td>\n      <td>89.00</td>\n      <td>139.0</td>\n      <td>N</td>\n    </tr>\n    <tr>\n      <th>6</th>\n      <td>18.250</td>\n      <td>19.98</td>\n      <td>0.1794</td>\n      <td>0.05742</td>\n      <td>3.1800</td>\n      <td>27.66</td>\n      <td>1606.0</td>\n      <td>36.0</td>\n      <td>Female</td>\n      <td>22.0</td>\n      <td>90.00</td>\n      <td>160.0</td>\n      <td>N</td>\n    </tr>\n    <tr>\n      <th>7</th>\n      <td>13.710</td>\n      <td>20.83</td>\n      <td>0.2196</td>\n      <td>0.07451</td>\n      <td>3.8560</td>\n      <td>28.14</td>\n      <td>897.0</td>\n      <td>66.0</td>\n      <td>Female</td>\n      <td>26.2</td>\n      <td>114.00</td>\n      <td>255.0</td>\n      <td>N</td>\n    </tr>\n    <tr>\n      <th>8</th>\n      <td>13.000</td>\n      <td>21.82</td>\n      <td>0.2350</td>\n      <td>0.07389</td>\n      <td>2.4060</td>\n      <td>30.73</td>\n      <td>739.3</td>\n      <td>60.0</td>\n      <td>Female</td>\n      <td>32.1</td>\n      <td>83.00</td>\n      <td>179.0</td>\n      <td>N</td>\n    </tr>\n    <tr>\n      <th>9</th>\n      <td>12.460</td>\n      <td>24.04</td>\n      <td>0.2030</td>\n      <td>0.08243</td>\n      <td>2.0390</td>\n      <td>40.68</td>\n      <td>711.4</td>\n      <td>29.0</td>\n      <td>Male</td>\n      <td>30.0</td>\n      <td>85.00</td>\n      <td>180.0</td>\n      <td>N</td>\n    </tr>\n    <tr>\n      <th>10</th>\n      <td>16.020</td>\n      <td>23.24</td>\n      <td>0.1528</td>\n      <td>0.05697</td>\n      <td>2.4660</td>\n      <td>33.88</td>\n      <td>1150.0</td>\n      <td>22.0</td>\n      <td>Male</td>\n      <td>18.6</td>\n      <td>97.00</td>\n      <td>114.0</td>\n      <td>N</td>\n    </tr>\n    <tr>\n      <th>11</th>\n      <td>15.780</td>\n      <td>17.89</td>\n      <td>0.1842</td>\n      <td>0.06082</td>\n      <td>3.5640</td>\n      <td>27.28</td>\n      <td>1299.0</td>\n      <td>56.0</td>\n      <td>Female</td>\n      <td>28.0</td>\n      <td>85.00</td>\n      <td>184.0</td>\n      <td>N</td>\n    </tr>\n    <tr>\n      <th>12</th>\n      <td>19.170</td>\n      <td>24.80</td>\n      <td>0.2397</td>\n      <td>0.07800</td>\n      <td>11.0700</td>\n      <td>29.94</td>\n      <td>1332.0</td>\n      <td>53.0</td>\n      <td>Male</td>\n      <td>23.7</td>\n      <td>92.00</td>\n      <td>186.0</td>\n      <td>N</td>\n    </tr>\n    <tr>\n      <th>13</th>\n      <td>15.850</td>\n      <td>23.95</td>\n      <td>0.1847</td>\n      <td>0.05338</td>\n      <td>2.9030</td>\n      <td>27.66</td>\n      <td>876.5</td>\n      <td>50.0</td>\n      <td>Female</td>\n      <td>26.2</td>\n      <td>97.00</td>\n      <td>186.0</td>\n      <td>N</td>\n    </tr>\n    <tr>\n      <th>14</th>\n      <td>13.730</td>\n      <td>22.61</td>\n      <td>0.2069</td>\n      <td>0.07682</td>\n      <td>2.0610</td>\n      <td>32.01</td>\n      <td>697.7</td>\n      <td>61.0</td>\n      <td>Male</td>\n      <td>24.0</td>\n      <td>91.00</td>\n      <td>202.0</td>\n      <td>N</td>\n    </tr>\n    <tr>\n      <th>15</th>\n      <td>14.540</td>\n      <td>27.54</td>\n      <td>0.2303</td>\n      <td>0.07077</td>\n      <td>2.8790</td>\n      <td>37.13</td>\n      <td>943.2</td>\n      <td>34.0</td>\n      <td>Female</td>\n      <td>24.7</td>\n      <td>118.00</td>\n      <td>254.0</td>\n      <td>N</td>\n    </tr>\n    <tr>\n      <th>16</th>\n      <td>14.680</td>\n      <td>20.13</td>\n      <td>0.1586</td>\n      <td>0.05922</td>\n      <td>3.1950</td>\n      <td>30.88</td>\n      <td>1138.0</td>\n      <td>47.0</td>\n      <td>Male</td>\n      <td>30.3</td>\n      <td>109.00</td>\n      <td>207.0</td>\n      <td>N</td>\n    </tr>\n    <tr>\n      <th>17</th>\n      <td>16.130</td>\n      <td>20.68</td>\n      <td>0.2164</td>\n      <td>0.07356</td>\n      <td>3.8540</td>\n      <td>31.48</td>\n      <td>1315.0</td>\n      <td>68.0</td>\n      <td>Female</td>\n      <td>27.5</td>\n      <td>111.00</td>\n      <td>214.0</td>\n      <td>N</td>\n    </tr>\n    <tr>\n      <th>18</th>\n      <td>19.810</td>\n      <td>22.15</td>\n      <td>0.1582</td>\n      <td>0.05395</td>\n      <td>5.8650</td>\n      <td>30.88</td>\n      <td>2398.0</td>\n      <td>38.0</td>\n      <td>Male</td>\n      <td>25.4</td>\n      <td>84.00</td>\n      <td>162.0</td>\n      <td>N</td>\n    </tr>\n    <tr>\n      <th>19</th>\n      <td>13.540</td>\n      <td>14.36</td>\n      <td>0.1885</td>\n      <td>0.05766</td>\n      <td>2.0580</td>\n      <td>19.26</td>\n      <td>711.2</td>\n      <td>41.0</td>\n      <td>Male</td>\n      <td>24.7</td>\n      <td>83.00</td>\n      <td>187.0</td>\n      <td>Y</td>\n    </tr>\n    <tr>\n      <th>20</th>\n      <td>13.080</td>\n      <td>15.71</td>\n      <td>0.1967</td>\n      <td>0.06811</td>\n      <td>1.3830</td>\n      <td>20.49</td>\n      <td>630.5</td>\n      <td>35.0</td>\n      <td>Male</td>\n      <td>21.1</td>\n      <td>82.00</td>\n      <td>156.0</td>\n      <td>Y</td>\n    </tr>\n    <tr>\n      <th>21</th>\n      <td>9.504</td>\n      <td>12.44</td>\n      <td>0.1815</td>\n      <td>0.06905</td>\n      <td>1.9090</td>\n      <td>15.66</td>\n      <td>314.9</td>\n      <td>25.0</td>\n      <td>Female</td>\n      <td>24.3</td>\n      <td>95.00</td>\n      <td>162.0</td>\n      <td>Y</td>\n    </tr>\n    <tr>\n      <th>22</th>\n      <td>15.340</td>\n      <td>14.26</td>\n      <td>0.2521</td>\n      <td>0.07032</td>\n      <td>3.3840</td>\n      <td>19.08</td>\n      <td>980.9</td>\n      <td>25.0</td>\n      <td>Male</td>\n      <td>26.0</td>\n      <td>92.00</td>\n      <td>187.0</td>\n      <td>N</td>\n    </tr>\n    <tr>\n      <th>23</th>\n      <td>21.160</td>\n      <td>23.04</td>\n      <td>0.1769</td>\n      <td>0.05278</td>\n      <td>4.3030</td>\n      <td>35.59</td>\n      <td>2615.0</td>\n      <td>61.0</td>\n      <td>Female</td>\n      <td>32.0</td>\n      <td>103.67</td>\n      <td>210.0</td>\n      <td>N</td>\n    </tr>\n    <tr>\n      <th>24</th>\n      <td>16.650</td>\n      <td>21.38</td>\n      <td>0.1995</td>\n      <td>0.06330</td>\n      <td>5.4550</td>\n      <td>31.56</td>\n      <td>2215.0</td>\n      <td>31.0</td>\n      <td>Male</td>\n      <td>29.7</td>\n      <td>88.00</td>\n      <td>167.0</td>\n      <td>N</td>\n    </tr>\n    <tr>\n      <th>25</th>\n      <td>17.140</td>\n      <td>16.40</td>\n      <td>0.3040</td>\n      <td>0.07413</td>\n      <td>7.2760</td>\n      <td>21.40</td>\n      <td>1461.0</td>\n      <td>30.0</td>\n      <td>Female</td>\n      <td>25.2</td>\n      <td>83.00</td>\n      <td>178.0</td>\n      <td>N</td>\n    </tr>\n    <tr>\n      <th>26</th>\n      <td>14.580</td>\n      <td>21.53</td>\n      <td>0.2252</td>\n      <td>0.06924</td>\n      <td>2.1100</td>\n      <td>33.21</td>\n      <td>896.9</td>\n      <td>19.0</td>\n      <td>Male</td>\n      <td>19.2</td>\n      <td>87.00</td>\n      <td>124.0</td>\n      <td>N</td>\n    </tr>\n    <tr>\n      <th>27</th>\n      <td>18.610</td>\n      <td>20.25</td>\n      <td>0.1697</td>\n      <td>0.05699</td>\n      <td>5.6320</td>\n      <td>27.26</td>\n      <td>1403.0</td>\n      <td>42.0</td>\n      <td>Male</td>\n      <td>31.9</td>\n      <td>83.00</td>\n      <td>158.0</td>\n      <td>N</td>\n    </tr>\n    <tr>\n      <th>28</th>\n      <td>15.300</td>\n      <td>25.27</td>\n      <td>0.1926</td>\n      <td>0.06540</td>\n      <td>3.4980</td>\n      <td>36.71</td>\n      <td>1269.0</td>\n      <td>63.0</td>\n      <td>Male</td>\n      <td>24.4</td>\n      <td>73.00</td>\n      <td>160.0</td>\n      <td>N</td>\n    </tr>\n    <tr>\n      <th>29</th>\n      <td>17.570</td>\n      <td>15.05</td>\n      <td>0.1739</td>\n      <td>0.06149</td>\n      <td>4.6550</td>\n      <td>19.52</td>\n      <td>1227.0</td>\n      <td>67.0</td>\n      <td>Female</td>\n      <td>25.8</td>\n      <td>113.00</td>\n      <td>158.0</td>\n      <td>N</td>\n    </tr>\n    <tr>\n      <th>...</th>\n      <td>...</td>\n      <td>...</td>\n      <td>...</td>\n      <td>...</td>\n      <td>...</td>\n      <td>...</td>\n      <td>...</td>\n      <td>...</td>\n      <td>...</td>\n      <td>...</td>\n      <td>...</td>\n      <td>...</td>\n      <td>...</td>\n    </tr>\n    <tr>\n      <th>539</th>\n      <td>7.691</td>\n      <td>25.44</td>\n      <td>0.2037</td>\n      <td>0.07751</td>\n      <td>1.4450</td>\n      <td>31.89</td>\n      <td>223.6</td>\n      <td>NaN</td>\n      <td>NaN</td>\n      <td>NaN</td>\n      <td>NaN</td>\n      <td>NaN</td>\n      <td>Y</td>\n    </tr>\n    <tr>\n      <th>540</th>\n      <td>11.540</td>\n      <td>14.44</td>\n      <td>0.1818</td>\n      <td>0.06782</td>\n      <td>1.6280</td>\n      <td>19.68</td>\n      <td>457.8</td>\n      <td>NaN</td>\n      <td>NaN</td>\n      <td>NaN</td>\n      <td>NaN</td>\n      <td>NaN</td>\n      <td>Y</td>\n    </tr>\n    <tr>\n      <th>541</th>\n      <td>14.470</td>\n      <td>24.99</td>\n      <td>0.1872</td>\n      <td>0.06341</td>\n      <td>2.6150</td>\n      <td>31.73</td>\n      <td>808.9</td>\n      <td>NaN</td>\n      <td>NaN</td>\n      <td>NaN</td>\n      <td>NaN</td>\n      <td>NaN</td>\n      <td>Y</td>\n    </tr>\n    <tr>\n      <th>542</th>\n      <td>14.740</td>\n      <td>25.42</td>\n      <td>0.1840</td>\n      <td>0.05680</td>\n      <td>2.1770</td>\n      <td>32.29</td>\n      <td>826.4</td>\n      <td>NaN</td>\n      <td>NaN</td>\n      <td>NaN</td>\n      <td>NaN</td>\n      <td>NaN</td>\n      <td>Y</td>\n    </tr>\n    <tr>\n      <th>543</th>\n      <td>13.210</td>\n      <td>28.06</td>\n      <td>0.1628</td>\n      <td>0.05781</td>\n      <td>1.5390</td>\n      <td>37.17</td>\n      <td>629.6</td>\n      <td>NaN</td>\n      <td>NaN</td>\n      <td>NaN</td>\n      <td>NaN</td>\n      <td>NaN</td>\n      <td>Y</td>\n    </tr>\n    <tr>\n      <th>544</th>\n      <td>13.870</td>\n      <td>20.70</td>\n      <td>0.1620</td>\n      <td>0.06688</td>\n      <td>2.0760</td>\n      <td>24.75</td>\n      <td>688.6</td>\n      <td>NaN</td>\n      <td>NaN</td>\n      <td>NaN</td>\n      <td>NaN</td>\n      <td>NaN</td>\n      <td>Y</td>\n    </tr>\n    <tr>\n      <th>545</th>\n      <td>13.620</td>\n      <td>23.23</td>\n      <td>0.1664</td>\n      <td>0.05801</td>\n      <td>2.0660</td>\n      <td>29.09</td>\n      <td>729.8</td>\n      <td>NaN</td>\n      <td>NaN</td>\n      <td>NaN</td>\n      <td>NaN</td>\n      <td>NaN</td>\n      <td>Y</td>\n    </tr>\n    <tr>\n      <th>546</th>\n      <td>10.320</td>\n      <td>16.35</td>\n      <td>0.1885</td>\n      <td>0.06201</td>\n      <td>1.3560</td>\n      <td>21.77</td>\n      <td>384.9</td>\n      <td>NaN</td>\n      <td>NaN</td>\n      <td>NaN</td>\n      <td>NaN</td>\n      <td>NaN</td>\n      <td>Y</td>\n    </tr>\n    <tr>\n      <th>547</th>\n      <td>10.260</td>\n      <td>16.58</td>\n      <td>0.1669</td>\n      <td>0.06714</td>\n      <td>0.9887</td>\n      <td>22.04</td>\n      <td>357.4</td>\n      <td>NaN</td>\n      <td>NaN</td>\n      <td>NaN</td>\n      <td>NaN</td>\n      <td>NaN</td>\n      <td>Y</td>\n    </tr>\n    <tr>\n      <th>548</th>\n      <td>9.683</td>\n      <td>19.34</td>\n      <td>0.1580</td>\n      <td>0.06235</td>\n      <td>2.0540</td>\n      <td>25.59</td>\n      <td>364.2</td>\n      <td>NaN</td>\n      <td>NaN</td>\n      <td>NaN</td>\n      <td>NaN</td>\n      <td>NaN</td>\n      <td>Y</td>\n    </tr>\n    <tr>\n      <th>549</th>\n      <td>10.820</td>\n      <td>24.21</td>\n      <td>0.1976</td>\n      <td>0.06328</td>\n      <td>3.5640</td>\n      <td>31.45</td>\n      <td>505.6</td>\n      <td>NaN</td>\n      <td>NaN</td>\n      <td>NaN</td>\n      <td>NaN</td>\n      <td>NaN</td>\n      <td>Y</td>\n    </tr>\n    <tr>\n      <th>550</th>\n      <td>10.860</td>\n      <td>21.48</td>\n      <td>0.1661</td>\n      <td>0.05948</td>\n      <td>2.1150</td>\n      <td>24.77</td>\n      <td>412.3</td>\n      <td>NaN</td>\n      <td>NaN</td>\n      <td>NaN</td>\n      <td>NaN</td>\n      <td>NaN</td>\n      <td>Y</td>\n    </tr>\n    <tr>\n      <th>551</th>\n      <td>11.130</td>\n      <td>22.44</td>\n      <td>0.2030</td>\n      <td>0.06552</td>\n      <td>1.9940</td>\n      <td>28.26</td>\n      <td>436.6</td>\n      <td>NaN</td>\n      <td>NaN</td>\n      <td>NaN</td>\n      <td>NaN</td>\n      <td>NaN</td>\n      <td>Y</td>\n    </tr>\n    <tr>\n      <th>552</th>\n      <td>12.770</td>\n      <td>29.43</td>\n      <td>0.1539</td>\n      <td>0.05637</td>\n      <td>1.4770</td>\n      <td>36.00</td>\n      <td>594.7</td>\n      <td>NaN</td>\n      <td>NaN</td>\n      <td>NaN</td>\n      <td>NaN</td>\n      <td>NaN</td>\n      <td>Y</td>\n    </tr>\n    <tr>\n      <th>553</th>\n      <td>9.333</td>\n      <td>21.94</td>\n      <td>0.1692</td>\n      <td>0.06576</td>\n      <td>2.1210</td>\n      <td>25.05</td>\n      <td>295.8</td>\n      <td>NaN</td>\n      <td>NaN</td>\n      <td>NaN</td>\n      <td>NaN</td>\n      <td>NaN</td>\n      <td>Y</td>\n    </tr>\n    <tr>\n      <th>554</th>\n      <td>12.880</td>\n      <td>28.92</td>\n      <td>0.1566</td>\n      <td>0.05708</td>\n      <td>1.5020</td>\n      <td>35.74</td>\n      <td>595.7</td>\n      <td>NaN</td>\n      <td>NaN</td>\n      <td>NaN</td>\n      <td>NaN</td>\n      <td>NaN</td>\n      <td>Y</td>\n    </tr>\n    <tr>\n      <th>555</th>\n      <td>10.290</td>\n      <td>27.61</td>\n      <td>0.1593</td>\n      <td>0.06127</td>\n      <td>1.4370</td>\n      <td>34.91</td>\n      <td>357.6</td>\n      <td>NaN</td>\n      <td>NaN</td>\n      <td>NaN</td>\n      <td>NaN</td>\n      <td>NaN</td>\n      <td>Y</td>\n    </tr>\n    <tr>\n      <th>556</th>\n      <td>10.160</td>\n      <td>19.59</td>\n      <td>0.1791</td>\n      <td>0.06331</td>\n      <td>1.6480</td>\n      <td>22.88</td>\n      <td>347.3</td>\n      <td>NaN</td>\n      <td>NaN</td>\n      <td>NaN</td>\n      <td>NaN</td>\n      <td>NaN</td>\n      <td>Y</td>\n    </tr>\n    <tr>\n      <th>557</th>\n      <td>9.423</td>\n      <td>27.88</td>\n      <td>0.1742</td>\n      <td>0.06059</td>\n      <td>3.6180</td>\n      <td>34.24</td>\n      <td>330.6</td>\n      <td>NaN</td>\n      <td>NaN</td>\n      <td>NaN</td>\n      <td>NaN</td>\n      <td>NaN</td>\n      <td>Y</td>\n    </tr>\n    <tr>\n      <th>558</th>\n      <td>14.590</td>\n      <td>22.68</td>\n      <td>0.1454</td>\n      <td>0.06147</td>\n      <td>2.2240</td>\n      <td>27.27</td>\n      <td>733.5</td>\n      <td>NaN</td>\n      <td>NaN</td>\n      <td>NaN</td>\n      <td>NaN</td>\n      <td>NaN</td>\n      <td>Y</td>\n    </tr>\n    <tr>\n      <th>559</th>\n      <td>11.510</td>\n      <td>23.93</td>\n      <td>0.1388</td>\n      <td>0.06570</td>\n      <td>1.9360</td>\n      <td>37.16</td>\n      <td>474.2</td>\n      <td>NaN</td>\n      <td>NaN</td>\n      <td>NaN</td>\n      <td>NaN</td>\n      <td>NaN</td>\n      <td>Y</td>\n    </tr>\n    <tr>\n      <th>560</th>\n      <td>14.050</td>\n      <td>27.15</td>\n      <td>0.1537</td>\n      <td>0.06171</td>\n      <td>2.8880</td>\n      <td>33.17</td>\n      <td>706.7</td>\n      <td>NaN</td>\n      <td>NaN</td>\n      <td>NaN</td>\n      <td>NaN</td>\n      <td>NaN</td>\n      <td>Y</td>\n    </tr>\n    <tr>\n      <th>561</th>\n      <td>11.200</td>\n      <td>29.37</td>\n      <td>0.1060</td>\n      <td>0.05502</td>\n      <td>2.0410</td>\n      <td>38.30</td>\n      <td>439.6</td>\n      <td>NaN</td>\n      <td>NaN</td>\n      <td>NaN</td>\n      <td>NaN</td>\n      <td>NaN</td>\n      <td>Y</td>\n    </tr>\n    <tr>\n      <th>562</th>\n      <td>15.220</td>\n      <td>30.62</td>\n      <td>0.2128</td>\n      <td>0.07152</td>\n      <td>2.3620</td>\n      <td>42.79</td>\n      <td>915.0</td>\n      <td>NaN</td>\n      <td>NaN</td>\n      <td>NaN</td>\n      <td>NaN</td>\n      <td>NaN</td>\n      <td>N</td>\n    </tr>\n    <tr>\n      <th>563</th>\n      <td>20.920</td>\n      <td>25.09</td>\n      <td>0.2149</td>\n      <td>0.06879</td>\n      <td>8.7580</td>\n      <td>29.41</td>\n      <td>1819.0</td>\n      <td>NaN</td>\n      <td>NaN</td>\n      <td>NaN</td>\n      <td>NaN</td>\n      <td>NaN</td>\n      <td>N</td>\n    </tr>\n    <tr>\n      <th>564</th>\n      <td>21.560</td>\n      <td>22.39</td>\n      <td>0.1726</td>\n      <td>0.05623</td>\n      <td>7.6730</td>\n      <td>26.40</td>\n      <td>2027.0</td>\n      <td>NaN</td>\n      <td>NaN</td>\n      <td>NaN</td>\n      <td>NaN</td>\n      <td>NaN</td>\n      <td>N</td>\n    </tr>\n    <tr>\n      <th>565</th>\n      <td>20.130</td>\n      <td>28.25</td>\n      <td>0.1752</td>\n      <td>0.05533</td>\n      <td>5.2030</td>\n      <td>38.25</td>\n      <td>1731.0</td>\n      <td>NaN</td>\n      <td>NaN</td>\n      <td>NaN</td>\n      <td>NaN</td>\n      <td>NaN</td>\n      <td>N</td>\n    </tr>\n    <tr>\n      <th>566</th>\n      <td>16.600</td>\n      <td>28.08</td>\n      <td>0.1590</td>\n      <td>0.05648</td>\n      <td>3.4250</td>\n      <td>34.12</td>\n      <td>1124.0</td>\n      <td>NaN</td>\n      <td>NaN</td>\n      <td>NaN</td>\n      <td>NaN</td>\n      <td>NaN</td>\n      <td>N</td>\n    </tr>\n    <tr>\n      <th>567</th>\n      <td>20.600</td>\n      <td>29.33</td>\n      <td>0.2397</td>\n      <td>0.07016</td>\n      <td>5.7720</td>\n      <td>39.42</td>\n      <td>1821.0</td>\n      <td>NaN</td>\n      <td>NaN</td>\n      <td>NaN</td>\n      <td>NaN</td>\n      <td>NaN</td>\n      <td>N</td>\n    </tr>\n    <tr>\n      <th>568</th>\n      <td>7.760</td>\n      <td>24.54</td>\n      <td>0.1587</td>\n      <td>0.05884</td>\n      <td>2.5480</td>\n      <td>30.37</td>\n      <td>268.6</td>\n      <td>NaN</td>\n      <td>NaN</td>\n      <td>NaN</td>\n      <td>NaN</td>\n      <td>NaN</td>\n      <td>Y</td>\n    </tr>\n  </tbody>\n</table>\n<p>569 rows × 13 columns</p>\n</div>"
     },
     "metadata": {},
     "output_type": "display_data"
    },
    {
     "data": {
      "text/plain": "       bank_acc_bal  avg_loan_val  spend perc SuperMkt   perc spend Fuel  \\\ncount    569.000000    569.000000            569.000000       569.000000   \nmean      14.127292     19.289649              0.181162         0.062798   \nstd        3.524049      4.301036              0.027414         0.007060   \nmin        6.981000      9.710000              0.106000         0.049960   \n25%       11.700000     16.170000              0.161900         0.057700   \n50%       13.370000     18.840000              0.179200         0.061540   \n75%       15.780000     21.800000              0.195700         0.066120   \nmax       28.110000     39.280000              0.304000         0.097440   \n\n       Years with bank  loan amount  val of propertY         Age  prev_Salary  \\\ncount       569.000000   569.000000       569.000000  442.000000   442.000000   \nmean          2.866059    25.677223       880.583128   48.518100    26.375792   \nstd           2.021855     6.146258       569.356993   13.109028     4.418122   \nmin           0.757000    12.020000       185.200000   19.000000    18.000000   \n25%           1.606000    21.080000       515.300000   38.250000    23.200000   \n50%           2.287000    25.410000       686.500000   50.000000    25.700000   \n75%           3.357000    29.720000      1084.000000   59.000000    29.275000   \nmax          21.980000    49.540000      4254.000000   79.000000    42.200000   \n\n       last_Bonus      Income  \ncount  442.000000  442.000000  \nmean    94.647014  189.140271  \nstd     13.831283   34.608052  \nmin     62.000000   97.000000  \n25%     84.000000  164.250000  \n50%     93.000000  186.000000  \n75%    105.000000  209.750000  \nmax    133.000000  301.000000  ",
      "text/html": "<div>\n<style scoped>\n    .dataframe tbody tr th:only-of-type {\n        vertical-align: middle;\n    }\n\n    .dataframe tbody tr th {\n        vertical-align: top;\n    }\n\n    .dataframe thead th {\n        text-align: right;\n    }\n</style>\n<table border=\"1\" class=\"dataframe\">\n  <thead>\n    <tr style=\"text-align: right;\">\n      <th></th>\n      <th>bank_acc_bal</th>\n      <th>avg_loan_val</th>\n      <th>spend perc SuperMkt</th>\n      <th>perc spend Fuel</th>\n      <th>Years with bank</th>\n      <th>loan amount</th>\n      <th>val of propertY</th>\n      <th>Age</th>\n      <th>prev_Salary</th>\n      <th>last_Bonus</th>\n      <th>Income</th>\n    </tr>\n  </thead>\n  <tbody>\n    <tr>\n      <th>count</th>\n      <td>569.000000</td>\n      <td>569.000000</td>\n      <td>569.000000</td>\n      <td>569.000000</td>\n      <td>569.000000</td>\n      <td>569.000000</td>\n      <td>569.000000</td>\n      <td>442.000000</td>\n      <td>442.000000</td>\n      <td>442.000000</td>\n      <td>442.000000</td>\n    </tr>\n    <tr>\n      <th>mean</th>\n      <td>14.127292</td>\n      <td>19.289649</td>\n      <td>0.181162</td>\n      <td>0.062798</td>\n      <td>2.866059</td>\n      <td>25.677223</td>\n      <td>880.583128</td>\n      <td>48.518100</td>\n      <td>26.375792</td>\n      <td>94.647014</td>\n      <td>189.140271</td>\n    </tr>\n    <tr>\n      <th>std</th>\n      <td>3.524049</td>\n      <td>4.301036</td>\n      <td>0.027414</td>\n      <td>0.007060</td>\n      <td>2.021855</td>\n      <td>6.146258</td>\n      <td>569.356993</td>\n      <td>13.109028</td>\n      <td>4.418122</td>\n      <td>13.831283</td>\n      <td>34.608052</td>\n    </tr>\n    <tr>\n      <th>min</th>\n      <td>6.981000</td>\n      <td>9.710000</td>\n      <td>0.106000</td>\n      <td>0.049960</td>\n      <td>0.757000</td>\n      <td>12.020000</td>\n      <td>185.200000</td>\n      <td>19.000000</td>\n      <td>18.000000</td>\n      <td>62.000000</td>\n      <td>97.000000</td>\n    </tr>\n    <tr>\n      <th>25%</th>\n      <td>11.700000</td>\n      <td>16.170000</td>\n      <td>0.161900</td>\n      <td>0.057700</td>\n      <td>1.606000</td>\n      <td>21.080000</td>\n      <td>515.300000</td>\n      <td>38.250000</td>\n      <td>23.200000</td>\n      <td>84.000000</td>\n      <td>164.250000</td>\n    </tr>\n    <tr>\n      <th>50%</th>\n      <td>13.370000</td>\n      <td>18.840000</td>\n      <td>0.179200</td>\n      <td>0.061540</td>\n      <td>2.287000</td>\n      <td>25.410000</td>\n      <td>686.500000</td>\n      <td>50.000000</td>\n      <td>25.700000</td>\n      <td>93.000000</td>\n      <td>186.000000</td>\n    </tr>\n    <tr>\n      <th>75%</th>\n      <td>15.780000</td>\n      <td>21.800000</td>\n      <td>0.195700</td>\n      <td>0.066120</td>\n      <td>3.357000</td>\n      <td>29.720000</td>\n      <td>1084.000000</td>\n      <td>59.000000</td>\n      <td>29.275000</td>\n      <td>105.000000</td>\n      <td>209.750000</td>\n    </tr>\n    <tr>\n      <th>max</th>\n      <td>28.110000</td>\n      <td>39.280000</td>\n      <td>0.304000</td>\n      <td>0.097440</td>\n      <td>21.980000</td>\n      <td>49.540000</td>\n      <td>4254.000000</td>\n      <td>79.000000</td>\n      <td>42.200000</td>\n      <td>133.000000</td>\n      <td>301.000000</td>\n    </tr>\n  </tbody>\n</table>\n</div>"
     },
     "metadata": {},
     "output_type": "display_data"
    },
    {
     "data": {
      "text/plain": "        bank_acc_bal  avg_loan_val  spend perc SuperMkt   perc spend Fuel  \\\ncount         569.00        569.00              569.0000        569.00000   \nunique        456.00        479.00              432.0000        499.00000   \ntop            12.34         18.22                0.1769          0.05907   \nfreq            4.00          3.00                4.0000          3.00000   \n\n        Years with bank  loan amount  val of propertY    Age Gender  \\\ncount           569.000        569.0            569.0  442.0    442   \nunique          533.000        511.0            544.0   58.0      2   \ntop               1.778         17.7            472.4   53.0   Male   \nfreq              4.000          3.0              2.0   19.0    235   \n\n        prev_Salary  last_Bonus  Income target  \ncount         442.0       442.0   442.0    569  \nunique        163.0       100.0   141.0      2  \ntop            24.1        93.0   162.0      Y  \nfreq            8.0        21.0    10.0    357  ",
      "text/html": "<div>\n<style scoped>\n    .dataframe tbody tr th:only-of-type {\n        vertical-align: middle;\n    }\n\n    .dataframe tbody tr th {\n        vertical-align: top;\n    }\n\n    .dataframe thead th {\n        text-align: right;\n    }\n</style>\n<table border=\"1\" class=\"dataframe\">\n  <thead>\n    <tr style=\"text-align: right;\">\n      <th></th>\n      <th>bank_acc_bal</th>\n      <th>avg_loan_val</th>\n      <th>spend perc SuperMkt</th>\n      <th>perc spend Fuel</th>\n      <th>Years with bank</th>\n      <th>loan amount</th>\n      <th>val of propertY</th>\n      <th>Age</th>\n      <th>Gender</th>\n      <th>prev_Salary</th>\n      <th>last_Bonus</th>\n      <th>Income</th>\n      <th>target</th>\n    </tr>\n  </thead>\n  <tbody>\n    <tr>\n      <th>count</th>\n      <td>569.00</td>\n      <td>569.00</td>\n      <td>569.0000</td>\n      <td>569.00000</td>\n      <td>569.000</td>\n      <td>569.0</td>\n      <td>569.0</td>\n      <td>442.0</td>\n      <td>442</td>\n      <td>442.0</td>\n      <td>442.0</td>\n      <td>442.0</td>\n      <td>569</td>\n    </tr>\n    <tr>\n      <th>unique</th>\n      <td>456.00</td>\n      <td>479.00</td>\n      <td>432.0000</td>\n      <td>499.00000</td>\n      <td>533.000</td>\n      <td>511.0</td>\n      <td>544.0</td>\n      <td>58.0</td>\n      <td>2</td>\n      <td>163.0</td>\n      <td>100.0</td>\n      <td>141.0</td>\n      <td>2</td>\n    </tr>\n    <tr>\n      <th>top</th>\n      <td>12.34</td>\n      <td>18.22</td>\n      <td>0.1769</td>\n      <td>0.05907</td>\n      <td>1.778</td>\n      <td>17.7</td>\n      <td>472.4</td>\n      <td>53.0</td>\n      <td>Male</td>\n      <td>24.1</td>\n      <td>93.0</td>\n      <td>162.0</td>\n      <td>Y</td>\n    </tr>\n    <tr>\n      <th>freq</th>\n      <td>4.00</td>\n      <td>3.00</td>\n      <td>4.0000</td>\n      <td>3.00000</td>\n      <td>4.000</td>\n      <td>3.0</td>\n      <td>2.0</td>\n      <td>19.0</td>\n      <td>235</td>\n      <td>8.0</td>\n      <td>21.0</td>\n      <td>10.0</td>\n      <td>357</td>\n    </tr>\n  </tbody>\n</table>\n</div>"
     },
     "metadata": {},
     "output_type": "display_data"
    },
    {
     "data": {
      "text/plain": "bank_acc_bal              0\navg_loan_val              0\nspend perc SuperMkt       0\nperc spend Fuel           0\nYears with bank           0\nloan amount               0\nval of propertY           0\nAge                     127\nGender                  127\nprev_Salary             127\nlast_Bonus              127\nIncome                  127\ntarget                    0\ndtype: int64"
     },
     "metadata": {},
     "output_type": "display_data"
    },
    {
     "data": {
      "text/plain": "        bank_acc_bal  avg_loan_val  spend perc SuperMkt   perc spend Fuel  \\\ncount         442.00        442.00              442.0000        442.00000   \nunique        366.00        390.00              357.0000        401.00000   \ntop            13.05         17.46                0.1769          0.06113   \nfreq            3.00          3.00                4.0000          3.00000   \n\n        Years with bank  loan amount  val of propertY    Age Gender  \\\ncount           442.000        442.0            442.0  442.0    442   \nunique          419.000        406.0            427.0   58.0      2   \ntop               1.778         17.7            708.8   53.0   Male   \nfreq              4.000          3.0              2.0   19.0    235   \n\n        prev_Salary  last_Bonus  Income target  \ncount         442.0       442.0   442.0    442  \nunique        163.0       100.0   141.0      2  \ntop            24.1        93.0   162.0      Y  \nfreq            8.0        21.0    10.0    260  ",
      "text/html": "<div>\n<style scoped>\n    .dataframe tbody tr th:only-of-type {\n        vertical-align: middle;\n    }\n\n    .dataframe tbody tr th {\n        vertical-align: top;\n    }\n\n    .dataframe thead th {\n        text-align: right;\n    }\n</style>\n<table border=\"1\" class=\"dataframe\">\n  <thead>\n    <tr style=\"text-align: right;\">\n      <th></th>\n      <th>bank_acc_bal</th>\n      <th>avg_loan_val</th>\n      <th>spend perc SuperMkt</th>\n      <th>perc spend Fuel</th>\n      <th>Years with bank</th>\n      <th>loan amount</th>\n      <th>val of propertY</th>\n      <th>Age</th>\n      <th>Gender</th>\n      <th>prev_Salary</th>\n      <th>last_Bonus</th>\n      <th>Income</th>\n      <th>target</th>\n    </tr>\n  </thead>\n  <tbody>\n    <tr>\n      <th>count</th>\n      <td>442.00</td>\n      <td>442.00</td>\n      <td>442.0000</td>\n      <td>442.00000</td>\n      <td>442.000</td>\n      <td>442.0</td>\n      <td>442.0</td>\n      <td>442.0</td>\n      <td>442</td>\n      <td>442.0</td>\n      <td>442.0</td>\n      <td>442.0</td>\n      <td>442</td>\n    </tr>\n    <tr>\n      <th>unique</th>\n      <td>366.00</td>\n      <td>390.00</td>\n      <td>357.0000</td>\n      <td>401.00000</td>\n      <td>419.000</td>\n      <td>406.0</td>\n      <td>427.0</td>\n      <td>58.0</td>\n      <td>2</td>\n      <td>163.0</td>\n      <td>100.0</td>\n      <td>141.0</td>\n      <td>2</td>\n    </tr>\n    <tr>\n      <th>top</th>\n      <td>13.05</td>\n      <td>17.46</td>\n      <td>0.1769</td>\n      <td>0.06113</td>\n      <td>1.778</td>\n      <td>17.7</td>\n      <td>708.8</td>\n      <td>53.0</td>\n      <td>Male</td>\n      <td>24.1</td>\n      <td>93.0</td>\n      <td>162.0</td>\n      <td>Y</td>\n    </tr>\n    <tr>\n      <th>freq</th>\n      <td>3.00</td>\n      <td>3.00</td>\n      <td>4.0000</td>\n      <td>3.00000</td>\n      <td>4.000</td>\n      <td>3.0</td>\n      <td>2.0</td>\n      <td>19.0</td>\n      <td>235</td>\n      <td>8.0</td>\n      <td>21.0</td>\n      <td>10.0</td>\n      <td>260</td>\n    </tr>\n  </tbody>\n</table>\n</div>"
     },
     "metadata": {},
     "output_type": "display_data"
    }
   ],
   "source": [
    "#Print all data in tabular form\n",
    "# print(tabulate(data,headers='keys', tablefmt='psql'))\n",
    "\n",
    "#Print all data for Ipython\n",
    "from IPython.display import display,HTML\n",
    "display(data)\n",
    "\n",
    "#Initial Description of data\n",
    "display(data.describe())\n",
    "#Since the Gender and target columns are not numeric, let's convert everything to objects for a better comparison\n",
    "display(data.astype('object').describe())\n",
    "\n",
    "#Provide a count of the number of NAs per column\n",
    "display(data.isnull().sum(axis = 0))\n",
    "\n",
    "#Lets review the data without nas\n",
    "display(data.dropna().astype('object').describe())\n",
    "#This confirms my suspicion - the nas are not random, they are specifically on rows 442-568."
   ],
   "metadata": {
    "collapsed": false,
    "pycharm": {
     "name": "#%%\n"
    }
   }
  },
  {
   "cell_type": "markdown",
   "source": [
    "Another look at the original datafile shows that some entries explicitly have *nan* as their value, while others are empty.\n",
    "Simple inspection shows the following:\n",
    "\n",
    "| Column Name | Value Type   |\n",
    "|------------:|--------------|\n",
    "|         Age | Empty Values |\n",
    "|      Gender | nan Values   |\n",
    "| prev_Salary | Empty Values |\n",
    "|  last_Bonus | Empty Values |\n",
    "|      Income | Empty Values |\n",
    "\n",
    "This may be relevant later, as these are different types of missing value."
   ],
   "metadata": {
    "collapsed": false,
    "pycharm": {
     "name": "#%% md\n"
    }
   }
  },
  {
   "cell_type": "code",
   "execution_count": 102,
   "outputs": [
    {
     "data": {
      "text/plain": "     bank_acc_bal  avg_loan_val  spend perc SuperMkt   perc spend Fuel  \\\n0          17.990         10.38                0.2419          0.07871   \n1          20.570         17.77                0.1812          0.05667   \n2          19.690         21.25                0.2069          0.05999   \n3          11.420         20.38                0.2597          0.09744   \n4          20.290         14.34                0.1809          0.05883   \n5          12.450         15.70                0.2087          0.07613   \n6          18.250         19.98                0.1794          0.05742   \n7          13.710         20.83                0.2196          0.07451   \n8          13.000         21.82                0.2350          0.07389   \n9          12.460         24.04                0.2030          0.08243   \n10         16.020         23.24                0.1528          0.05697   \n11         15.780         17.89                0.1842          0.06082   \n12         19.170         24.80                0.2397          0.07800   \n13         15.850         23.95                0.1847          0.05338   \n14         13.730         22.61                0.2069          0.07682   \n15         14.540         27.54                0.2303          0.07077   \n16         14.680         20.13                0.1586          0.05922   \n17         16.130         20.68                0.2164          0.07356   \n18         19.810         22.15                0.1582          0.05395   \n19         13.540         14.36                0.1885          0.05766   \n20         13.080         15.71                0.1967          0.06811   \n21          9.504         12.44                0.1815          0.06905   \n22         15.340         14.26                0.2521          0.07032   \n23         21.160         23.04                0.1769          0.05278   \n24         16.650         21.38                0.1995          0.06330   \n25         17.140         16.40                0.3040          0.07413   \n26         14.580         21.53                0.2252          0.06924   \n27         18.610         20.25                0.1697          0.05699   \n28         15.300         25.27                0.1926          0.06540   \n29         17.570         15.05                0.1739          0.06149   \n..            ...           ...                   ...              ...   \n539         7.691         25.44                0.2037          0.07751   \n540        11.540         14.44                0.1818          0.06782   \n541        14.470         24.99                0.1872          0.06341   \n542        14.740         25.42                0.1840          0.05680   \n543        13.210         28.06                0.1628          0.05781   \n544        13.870         20.70                0.1620          0.06688   \n545        13.620         23.23                0.1664          0.05801   \n546        10.320         16.35                0.1885          0.06201   \n547        10.260         16.58                0.1669          0.06714   \n548         9.683         19.34                0.1580          0.06235   \n549        10.820         24.21                0.1976          0.06328   \n550        10.860         21.48                0.1661          0.05948   \n551        11.130         22.44                0.2030          0.06552   \n552        12.770         29.43                0.1539          0.05637   \n553         9.333         21.94                0.1692          0.06576   \n554        12.880         28.92                0.1566          0.05708   \n555        10.290         27.61                0.1593          0.06127   \n556        10.160         19.59                0.1791          0.06331   \n557         9.423         27.88                0.1742          0.06059   \n558        14.590         22.68                0.1454          0.06147   \n559        11.510         23.93                0.1388          0.06570   \n560        14.050         27.15                0.1537          0.06171   \n561        11.200         29.37                0.1060          0.05502   \n562        15.220         30.62                0.2128          0.07152   \n563        20.920         25.09                0.2149          0.06879   \n564        21.560         22.39                0.1726          0.05623   \n565        20.130         28.25                0.1752          0.05533   \n566        16.600         28.08                0.1590          0.05648   \n567        20.600         29.33                0.2397          0.07016   \n568         7.760         24.54                0.1587          0.05884   \n\n     Years with bank  loan amount  val of propertY   Age  Gender  prev_Salary  \\\n0             8.5890        17.33           2019.0  59.0  Female         32.1   \n1             3.3980        23.41           1956.0  48.0    Male         21.6   \n2             4.5850        25.53           1709.0  72.0  Female         30.5   \n3             3.4450        26.50            567.7  24.0    Male         25.3   \n4             5.4380        16.67           1575.0  50.0    Male         23.0   \n5             2.2170        23.75            741.6  23.0    Male         22.6   \n6             3.1800        27.66           1606.0  36.0  Female         22.0   \n7             3.8560        28.14            897.0  66.0  Female         26.2   \n8             2.4060        30.73            739.3  60.0  Female         32.1   \n9             2.0390        40.68            711.4  29.0    Male         30.0   \n10            2.4660        33.88           1150.0  22.0    Male         18.6   \n11            3.5640        27.28           1299.0  56.0  Female         28.0   \n12           11.0700        29.94           1332.0  53.0    Male         23.7   \n13            2.9030        27.66            876.5  50.0  Female         26.2   \n14            2.0610        32.01            697.7  61.0    Male         24.0   \n15            2.8790        37.13            943.2  34.0  Female         24.7   \n16            3.1950        30.88           1138.0  47.0    Male         30.3   \n17            3.8540        31.48           1315.0  68.0  Female         27.5   \n18            5.8650        30.88           2398.0  38.0    Male         25.4   \n19            2.0580        19.26            711.2  41.0    Male         24.7   \n20            1.3830        20.49            630.5  35.0    Male         21.1   \n21            1.9090        15.66            314.9  25.0  Female         24.3   \n22            3.3840        19.08            980.9  25.0    Male         26.0   \n23            4.3030        35.59           2615.0  61.0  Female         32.0   \n24            5.4550        31.56           2215.0  31.0    Male         29.7   \n25            7.2760        21.40           1461.0  30.0  Female         25.2   \n26            2.1100        33.21            896.9  19.0    Male         19.2   \n27            5.6320        27.26           1403.0  42.0    Male         31.9   \n28            3.4980        36.71           1269.0  63.0    Male         24.4   \n29            4.6550        19.52           1227.0  67.0  Female         25.8   \n..               ...          ...              ...   ...     ...          ...   \n539           1.4450        31.89            223.6   NaN     NaN          NaN   \n540           1.6280        19.68            457.8   NaN     NaN          NaN   \n541           2.6150        31.73            808.9   NaN     NaN          NaN   \n542           2.1770        32.29            826.4   NaN     NaN          NaN   \n543           1.5390        37.17            629.6   NaN     NaN          NaN   \n544           2.0760        24.75            688.6   NaN     NaN          NaN   \n545           2.0660        29.09            729.8   NaN     NaN          NaN   \n546           1.3560        21.77            384.9   NaN     NaN          NaN   \n547           0.9887        22.04            357.4   NaN     NaN          NaN   \n548           2.0540        25.59            364.2   NaN     NaN          NaN   \n549           3.5640        31.45            505.6   NaN     NaN          NaN   \n550           2.1150        24.77            412.3   NaN     NaN          NaN   \n551           1.9940        28.26            436.6   NaN     NaN          NaN   \n552           1.4770        36.00            594.7   NaN     NaN          NaN   \n553           2.1210        25.05            295.8   NaN     NaN          NaN   \n554           1.5020        35.74            595.7   NaN     NaN          NaN   \n555           1.4370        34.91            357.6   NaN     NaN          NaN   \n556           1.6480        22.88            347.3   NaN     NaN          NaN   \n557           3.6180        34.24            330.6   NaN     NaN          NaN   \n558           2.2240        27.27            733.5   NaN     NaN          NaN   \n559           1.9360        37.16            474.2   NaN     NaN          NaN   \n560           2.8880        33.17            706.7   NaN     NaN          NaN   \n561           2.0410        38.30            439.6   NaN     NaN          NaN   \n562           2.3620        42.79            915.0   NaN     NaN          NaN   \n563           8.7580        29.41           1819.0   NaN     NaN          NaN   \n564           7.6730        26.40           2027.0   NaN     NaN          NaN   \n565           5.2030        38.25           1731.0   NaN     NaN          NaN   \n566           3.4250        34.12           1124.0   NaN     NaN          NaN   \n567           5.7720        39.42           1821.0   NaN     NaN          NaN   \n568           2.5480        30.37            268.6   NaN     NaN          NaN   \n\n     last_Bonus  Income  target  is_male  \n0        101.00   157.0   False    False  \n1         87.00   183.0   False     True  \n2         93.00   156.0   False    False  \n3         84.00   198.0   False     True  \n4        101.00   192.0   False     True  \n5         89.00   139.0   False     True  \n6         90.00   160.0   False    False  \n7        114.00   255.0   False    False  \n8         83.00   179.0   False    False  \n9         85.00   180.0   False     True  \n10        97.00   114.0   False     True  \n11        85.00   184.0   False    False  \n12        92.00   186.0   False     True  \n13        97.00   186.0   False    False  \n14        91.00   202.0   False     True  \n15       118.00   254.0   False    False  \n16       109.00   207.0   False     True  \n17       111.00   214.0   False    False  \n18        84.00   162.0   False     True  \n19        83.00   187.0    True     True  \n20        82.00   156.0    True     True  \n21        95.00   162.0    True    False  \n22        92.00   187.0   False     True  \n23       103.67   210.0   False    False  \n24        88.00   167.0   False     True  \n25        83.00   178.0   False    False  \n26        87.00   124.0   False     True  \n27        83.00   158.0   False     True  \n28        73.00   160.0   False     True  \n29       113.00   158.0   False    False  \n..          ...     ...     ...      ...  \n539         NaN     NaN    True     True  \n540         NaN     NaN    True     True  \n541         NaN     NaN    True     True  \n542         NaN     NaN    True     True  \n543         NaN     NaN    True     True  \n544         NaN     NaN    True     True  \n545         NaN     NaN    True     True  \n546         NaN     NaN    True     True  \n547         NaN     NaN    True     True  \n548         NaN     NaN    True     True  \n549         NaN     NaN    True     True  \n550         NaN     NaN    True     True  \n551         NaN     NaN    True     True  \n552         NaN     NaN    True     True  \n553         NaN     NaN    True     True  \n554         NaN     NaN    True     True  \n555         NaN     NaN    True     True  \n556         NaN     NaN    True     True  \n557         NaN     NaN    True     True  \n558         NaN     NaN    True     True  \n559         NaN     NaN    True     True  \n560         NaN     NaN    True     True  \n561         NaN     NaN    True     True  \n562         NaN     NaN   False     True  \n563         NaN     NaN   False     True  \n564         NaN     NaN   False     True  \n565         NaN     NaN   False     True  \n566         NaN     NaN   False     True  \n567         NaN     NaN   False     True  \n568         NaN     NaN    True     True  \n\n[569 rows x 14 columns]",
      "text/html": "<div>\n<style scoped>\n    .dataframe tbody tr th:only-of-type {\n        vertical-align: middle;\n    }\n\n    .dataframe tbody tr th {\n        vertical-align: top;\n    }\n\n    .dataframe thead th {\n        text-align: right;\n    }\n</style>\n<table border=\"1\" class=\"dataframe\">\n  <thead>\n    <tr style=\"text-align: right;\">\n      <th></th>\n      <th>bank_acc_bal</th>\n      <th>avg_loan_val</th>\n      <th>spend perc SuperMkt</th>\n      <th>perc spend Fuel</th>\n      <th>Years with bank</th>\n      <th>loan amount</th>\n      <th>val of propertY</th>\n      <th>Age</th>\n      <th>Gender</th>\n      <th>prev_Salary</th>\n      <th>last_Bonus</th>\n      <th>Income</th>\n      <th>target</th>\n      <th>is_male</th>\n    </tr>\n  </thead>\n  <tbody>\n    <tr>\n      <th>0</th>\n      <td>17.990</td>\n      <td>10.38</td>\n      <td>0.2419</td>\n      <td>0.07871</td>\n      <td>8.5890</td>\n      <td>17.33</td>\n      <td>2019.0</td>\n      <td>59.0</td>\n      <td>Female</td>\n      <td>32.1</td>\n      <td>101.00</td>\n      <td>157.0</td>\n      <td>False</td>\n      <td>False</td>\n    </tr>\n    <tr>\n      <th>1</th>\n      <td>20.570</td>\n      <td>17.77</td>\n      <td>0.1812</td>\n      <td>0.05667</td>\n      <td>3.3980</td>\n      <td>23.41</td>\n      <td>1956.0</td>\n      <td>48.0</td>\n      <td>Male</td>\n      <td>21.6</td>\n      <td>87.00</td>\n      <td>183.0</td>\n      <td>False</td>\n      <td>True</td>\n    </tr>\n    <tr>\n      <th>2</th>\n      <td>19.690</td>\n      <td>21.25</td>\n      <td>0.2069</td>\n      <td>0.05999</td>\n      <td>4.5850</td>\n      <td>25.53</td>\n      <td>1709.0</td>\n      <td>72.0</td>\n      <td>Female</td>\n      <td>30.5</td>\n      <td>93.00</td>\n      <td>156.0</td>\n      <td>False</td>\n      <td>False</td>\n    </tr>\n    <tr>\n      <th>3</th>\n      <td>11.420</td>\n      <td>20.38</td>\n      <td>0.2597</td>\n      <td>0.09744</td>\n      <td>3.4450</td>\n      <td>26.50</td>\n      <td>567.7</td>\n      <td>24.0</td>\n      <td>Male</td>\n      <td>25.3</td>\n      <td>84.00</td>\n      <td>198.0</td>\n      <td>False</td>\n      <td>True</td>\n    </tr>\n    <tr>\n      <th>4</th>\n      <td>20.290</td>\n      <td>14.34</td>\n      <td>0.1809</td>\n      <td>0.05883</td>\n      <td>5.4380</td>\n      <td>16.67</td>\n      <td>1575.0</td>\n      <td>50.0</td>\n      <td>Male</td>\n      <td>23.0</td>\n      <td>101.00</td>\n      <td>192.0</td>\n      <td>False</td>\n      <td>True</td>\n    </tr>\n    <tr>\n      <th>5</th>\n      <td>12.450</td>\n      <td>15.70</td>\n      <td>0.2087</td>\n      <td>0.07613</td>\n      <td>2.2170</td>\n      <td>23.75</td>\n      <td>741.6</td>\n      <td>23.0</td>\n      <td>Male</td>\n      <td>22.6</td>\n      <td>89.00</td>\n      <td>139.0</td>\n      <td>False</td>\n      <td>True</td>\n    </tr>\n    <tr>\n      <th>6</th>\n      <td>18.250</td>\n      <td>19.98</td>\n      <td>0.1794</td>\n      <td>0.05742</td>\n      <td>3.1800</td>\n      <td>27.66</td>\n      <td>1606.0</td>\n      <td>36.0</td>\n      <td>Female</td>\n      <td>22.0</td>\n      <td>90.00</td>\n      <td>160.0</td>\n      <td>False</td>\n      <td>False</td>\n    </tr>\n    <tr>\n      <th>7</th>\n      <td>13.710</td>\n      <td>20.83</td>\n      <td>0.2196</td>\n      <td>0.07451</td>\n      <td>3.8560</td>\n      <td>28.14</td>\n      <td>897.0</td>\n      <td>66.0</td>\n      <td>Female</td>\n      <td>26.2</td>\n      <td>114.00</td>\n      <td>255.0</td>\n      <td>False</td>\n      <td>False</td>\n    </tr>\n    <tr>\n      <th>8</th>\n      <td>13.000</td>\n      <td>21.82</td>\n      <td>0.2350</td>\n      <td>0.07389</td>\n      <td>2.4060</td>\n      <td>30.73</td>\n      <td>739.3</td>\n      <td>60.0</td>\n      <td>Female</td>\n      <td>32.1</td>\n      <td>83.00</td>\n      <td>179.0</td>\n      <td>False</td>\n      <td>False</td>\n    </tr>\n    <tr>\n      <th>9</th>\n      <td>12.460</td>\n      <td>24.04</td>\n      <td>0.2030</td>\n      <td>0.08243</td>\n      <td>2.0390</td>\n      <td>40.68</td>\n      <td>711.4</td>\n      <td>29.0</td>\n      <td>Male</td>\n      <td>30.0</td>\n      <td>85.00</td>\n      <td>180.0</td>\n      <td>False</td>\n      <td>True</td>\n    </tr>\n    <tr>\n      <th>10</th>\n      <td>16.020</td>\n      <td>23.24</td>\n      <td>0.1528</td>\n      <td>0.05697</td>\n      <td>2.4660</td>\n      <td>33.88</td>\n      <td>1150.0</td>\n      <td>22.0</td>\n      <td>Male</td>\n      <td>18.6</td>\n      <td>97.00</td>\n      <td>114.0</td>\n      <td>False</td>\n      <td>True</td>\n    </tr>\n    <tr>\n      <th>11</th>\n      <td>15.780</td>\n      <td>17.89</td>\n      <td>0.1842</td>\n      <td>0.06082</td>\n      <td>3.5640</td>\n      <td>27.28</td>\n      <td>1299.0</td>\n      <td>56.0</td>\n      <td>Female</td>\n      <td>28.0</td>\n      <td>85.00</td>\n      <td>184.0</td>\n      <td>False</td>\n      <td>False</td>\n    </tr>\n    <tr>\n      <th>12</th>\n      <td>19.170</td>\n      <td>24.80</td>\n      <td>0.2397</td>\n      <td>0.07800</td>\n      <td>11.0700</td>\n      <td>29.94</td>\n      <td>1332.0</td>\n      <td>53.0</td>\n      <td>Male</td>\n      <td>23.7</td>\n      <td>92.00</td>\n      <td>186.0</td>\n      <td>False</td>\n      <td>True</td>\n    </tr>\n    <tr>\n      <th>13</th>\n      <td>15.850</td>\n      <td>23.95</td>\n      <td>0.1847</td>\n      <td>0.05338</td>\n      <td>2.9030</td>\n      <td>27.66</td>\n      <td>876.5</td>\n      <td>50.0</td>\n      <td>Female</td>\n      <td>26.2</td>\n      <td>97.00</td>\n      <td>186.0</td>\n      <td>False</td>\n      <td>False</td>\n    </tr>\n    <tr>\n      <th>14</th>\n      <td>13.730</td>\n      <td>22.61</td>\n      <td>0.2069</td>\n      <td>0.07682</td>\n      <td>2.0610</td>\n      <td>32.01</td>\n      <td>697.7</td>\n      <td>61.0</td>\n      <td>Male</td>\n      <td>24.0</td>\n      <td>91.00</td>\n      <td>202.0</td>\n      <td>False</td>\n      <td>True</td>\n    </tr>\n    <tr>\n      <th>15</th>\n      <td>14.540</td>\n      <td>27.54</td>\n      <td>0.2303</td>\n      <td>0.07077</td>\n      <td>2.8790</td>\n      <td>37.13</td>\n      <td>943.2</td>\n      <td>34.0</td>\n      <td>Female</td>\n      <td>24.7</td>\n      <td>118.00</td>\n      <td>254.0</td>\n      <td>False</td>\n      <td>False</td>\n    </tr>\n    <tr>\n      <th>16</th>\n      <td>14.680</td>\n      <td>20.13</td>\n      <td>0.1586</td>\n      <td>0.05922</td>\n      <td>3.1950</td>\n      <td>30.88</td>\n      <td>1138.0</td>\n      <td>47.0</td>\n      <td>Male</td>\n      <td>30.3</td>\n      <td>109.00</td>\n      <td>207.0</td>\n      <td>False</td>\n      <td>True</td>\n    </tr>\n    <tr>\n      <th>17</th>\n      <td>16.130</td>\n      <td>20.68</td>\n      <td>0.2164</td>\n      <td>0.07356</td>\n      <td>3.8540</td>\n      <td>31.48</td>\n      <td>1315.0</td>\n      <td>68.0</td>\n      <td>Female</td>\n      <td>27.5</td>\n      <td>111.00</td>\n      <td>214.0</td>\n      <td>False</td>\n      <td>False</td>\n    </tr>\n    <tr>\n      <th>18</th>\n      <td>19.810</td>\n      <td>22.15</td>\n      <td>0.1582</td>\n      <td>0.05395</td>\n      <td>5.8650</td>\n      <td>30.88</td>\n      <td>2398.0</td>\n      <td>38.0</td>\n      <td>Male</td>\n      <td>25.4</td>\n      <td>84.00</td>\n      <td>162.0</td>\n      <td>False</td>\n      <td>True</td>\n    </tr>\n    <tr>\n      <th>19</th>\n      <td>13.540</td>\n      <td>14.36</td>\n      <td>0.1885</td>\n      <td>0.05766</td>\n      <td>2.0580</td>\n      <td>19.26</td>\n      <td>711.2</td>\n      <td>41.0</td>\n      <td>Male</td>\n      <td>24.7</td>\n      <td>83.00</td>\n      <td>187.0</td>\n      <td>True</td>\n      <td>True</td>\n    </tr>\n    <tr>\n      <th>20</th>\n      <td>13.080</td>\n      <td>15.71</td>\n      <td>0.1967</td>\n      <td>0.06811</td>\n      <td>1.3830</td>\n      <td>20.49</td>\n      <td>630.5</td>\n      <td>35.0</td>\n      <td>Male</td>\n      <td>21.1</td>\n      <td>82.00</td>\n      <td>156.0</td>\n      <td>True</td>\n      <td>True</td>\n    </tr>\n    <tr>\n      <th>21</th>\n      <td>9.504</td>\n      <td>12.44</td>\n      <td>0.1815</td>\n      <td>0.06905</td>\n      <td>1.9090</td>\n      <td>15.66</td>\n      <td>314.9</td>\n      <td>25.0</td>\n      <td>Female</td>\n      <td>24.3</td>\n      <td>95.00</td>\n      <td>162.0</td>\n      <td>True</td>\n      <td>False</td>\n    </tr>\n    <tr>\n      <th>22</th>\n      <td>15.340</td>\n      <td>14.26</td>\n      <td>0.2521</td>\n      <td>0.07032</td>\n      <td>3.3840</td>\n      <td>19.08</td>\n      <td>980.9</td>\n      <td>25.0</td>\n      <td>Male</td>\n      <td>26.0</td>\n      <td>92.00</td>\n      <td>187.0</td>\n      <td>False</td>\n      <td>True</td>\n    </tr>\n    <tr>\n      <th>23</th>\n      <td>21.160</td>\n      <td>23.04</td>\n      <td>0.1769</td>\n      <td>0.05278</td>\n      <td>4.3030</td>\n      <td>35.59</td>\n      <td>2615.0</td>\n      <td>61.0</td>\n      <td>Female</td>\n      <td>32.0</td>\n      <td>103.67</td>\n      <td>210.0</td>\n      <td>False</td>\n      <td>False</td>\n    </tr>\n    <tr>\n      <th>24</th>\n      <td>16.650</td>\n      <td>21.38</td>\n      <td>0.1995</td>\n      <td>0.06330</td>\n      <td>5.4550</td>\n      <td>31.56</td>\n      <td>2215.0</td>\n      <td>31.0</td>\n      <td>Male</td>\n      <td>29.7</td>\n      <td>88.00</td>\n      <td>167.0</td>\n      <td>False</td>\n      <td>True</td>\n    </tr>\n    <tr>\n      <th>25</th>\n      <td>17.140</td>\n      <td>16.40</td>\n      <td>0.3040</td>\n      <td>0.07413</td>\n      <td>7.2760</td>\n      <td>21.40</td>\n      <td>1461.0</td>\n      <td>30.0</td>\n      <td>Female</td>\n      <td>25.2</td>\n      <td>83.00</td>\n      <td>178.0</td>\n      <td>False</td>\n      <td>False</td>\n    </tr>\n    <tr>\n      <th>26</th>\n      <td>14.580</td>\n      <td>21.53</td>\n      <td>0.2252</td>\n      <td>0.06924</td>\n      <td>2.1100</td>\n      <td>33.21</td>\n      <td>896.9</td>\n      <td>19.0</td>\n      <td>Male</td>\n      <td>19.2</td>\n      <td>87.00</td>\n      <td>124.0</td>\n      <td>False</td>\n      <td>True</td>\n    </tr>\n    <tr>\n      <th>27</th>\n      <td>18.610</td>\n      <td>20.25</td>\n      <td>0.1697</td>\n      <td>0.05699</td>\n      <td>5.6320</td>\n      <td>27.26</td>\n      <td>1403.0</td>\n      <td>42.0</td>\n      <td>Male</td>\n      <td>31.9</td>\n      <td>83.00</td>\n      <td>158.0</td>\n      <td>False</td>\n      <td>True</td>\n    </tr>\n    <tr>\n      <th>28</th>\n      <td>15.300</td>\n      <td>25.27</td>\n      <td>0.1926</td>\n      <td>0.06540</td>\n      <td>3.4980</td>\n      <td>36.71</td>\n      <td>1269.0</td>\n      <td>63.0</td>\n      <td>Male</td>\n      <td>24.4</td>\n      <td>73.00</td>\n      <td>160.0</td>\n      <td>False</td>\n      <td>True</td>\n    </tr>\n    <tr>\n      <th>29</th>\n      <td>17.570</td>\n      <td>15.05</td>\n      <td>0.1739</td>\n      <td>0.06149</td>\n      <td>4.6550</td>\n      <td>19.52</td>\n      <td>1227.0</td>\n      <td>67.0</td>\n      <td>Female</td>\n      <td>25.8</td>\n      <td>113.00</td>\n      <td>158.0</td>\n      <td>False</td>\n      <td>False</td>\n    </tr>\n    <tr>\n      <th>...</th>\n      <td>...</td>\n      <td>...</td>\n      <td>...</td>\n      <td>...</td>\n      <td>...</td>\n      <td>...</td>\n      <td>...</td>\n      <td>...</td>\n      <td>...</td>\n      <td>...</td>\n      <td>...</td>\n      <td>...</td>\n      <td>...</td>\n      <td>...</td>\n    </tr>\n    <tr>\n      <th>539</th>\n      <td>7.691</td>\n      <td>25.44</td>\n      <td>0.2037</td>\n      <td>0.07751</td>\n      <td>1.4450</td>\n      <td>31.89</td>\n      <td>223.6</td>\n      <td>NaN</td>\n      <td>NaN</td>\n      <td>NaN</td>\n      <td>NaN</td>\n      <td>NaN</td>\n      <td>True</td>\n      <td>True</td>\n    </tr>\n    <tr>\n      <th>540</th>\n      <td>11.540</td>\n      <td>14.44</td>\n      <td>0.1818</td>\n      <td>0.06782</td>\n      <td>1.6280</td>\n      <td>19.68</td>\n      <td>457.8</td>\n      <td>NaN</td>\n      <td>NaN</td>\n      <td>NaN</td>\n      <td>NaN</td>\n      <td>NaN</td>\n      <td>True</td>\n      <td>True</td>\n    </tr>\n    <tr>\n      <th>541</th>\n      <td>14.470</td>\n      <td>24.99</td>\n      <td>0.1872</td>\n      <td>0.06341</td>\n      <td>2.6150</td>\n      <td>31.73</td>\n      <td>808.9</td>\n      <td>NaN</td>\n      <td>NaN</td>\n      <td>NaN</td>\n      <td>NaN</td>\n      <td>NaN</td>\n      <td>True</td>\n      <td>True</td>\n    </tr>\n    <tr>\n      <th>542</th>\n      <td>14.740</td>\n      <td>25.42</td>\n      <td>0.1840</td>\n      <td>0.05680</td>\n      <td>2.1770</td>\n      <td>32.29</td>\n      <td>826.4</td>\n      <td>NaN</td>\n      <td>NaN</td>\n      <td>NaN</td>\n      <td>NaN</td>\n      <td>NaN</td>\n      <td>True</td>\n      <td>True</td>\n    </tr>\n    <tr>\n      <th>543</th>\n      <td>13.210</td>\n      <td>28.06</td>\n      <td>0.1628</td>\n      <td>0.05781</td>\n      <td>1.5390</td>\n      <td>37.17</td>\n      <td>629.6</td>\n      <td>NaN</td>\n      <td>NaN</td>\n      <td>NaN</td>\n      <td>NaN</td>\n      <td>NaN</td>\n      <td>True</td>\n      <td>True</td>\n    </tr>\n    <tr>\n      <th>544</th>\n      <td>13.870</td>\n      <td>20.70</td>\n      <td>0.1620</td>\n      <td>0.06688</td>\n      <td>2.0760</td>\n      <td>24.75</td>\n      <td>688.6</td>\n      <td>NaN</td>\n      <td>NaN</td>\n      <td>NaN</td>\n      <td>NaN</td>\n      <td>NaN</td>\n      <td>True</td>\n      <td>True</td>\n    </tr>\n    <tr>\n      <th>545</th>\n      <td>13.620</td>\n      <td>23.23</td>\n      <td>0.1664</td>\n      <td>0.05801</td>\n      <td>2.0660</td>\n      <td>29.09</td>\n      <td>729.8</td>\n      <td>NaN</td>\n      <td>NaN</td>\n      <td>NaN</td>\n      <td>NaN</td>\n      <td>NaN</td>\n      <td>True</td>\n      <td>True</td>\n    </tr>\n    <tr>\n      <th>546</th>\n      <td>10.320</td>\n      <td>16.35</td>\n      <td>0.1885</td>\n      <td>0.06201</td>\n      <td>1.3560</td>\n      <td>21.77</td>\n      <td>384.9</td>\n      <td>NaN</td>\n      <td>NaN</td>\n      <td>NaN</td>\n      <td>NaN</td>\n      <td>NaN</td>\n      <td>True</td>\n      <td>True</td>\n    </tr>\n    <tr>\n      <th>547</th>\n      <td>10.260</td>\n      <td>16.58</td>\n      <td>0.1669</td>\n      <td>0.06714</td>\n      <td>0.9887</td>\n      <td>22.04</td>\n      <td>357.4</td>\n      <td>NaN</td>\n      <td>NaN</td>\n      <td>NaN</td>\n      <td>NaN</td>\n      <td>NaN</td>\n      <td>True</td>\n      <td>True</td>\n    </tr>\n    <tr>\n      <th>548</th>\n      <td>9.683</td>\n      <td>19.34</td>\n      <td>0.1580</td>\n      <td>0.06235</td>\n      <td>2.0540</td>\n      <td>25.59</td>\n      <td>364.2</td>\n      <td>NaN</td>\n      <td>NaN</td>\n      <td>NaN</td>\n      <td>NaN</td>\n      <td>NaN</td>\n      <td>True</td>\n      <td>True</td>\n    </tr>\n    <tr>\n      <th>549</th>\n      <td>10.820</td>\n      <td>24.21</td>\n      <td>0.1976</td>\n      <td>0.06328</td>\n      <td>3.5640</td>\n      <td>31.45</td>\n      <td>505.6</td>\n      <td>NaN</td>\n      <td>NaN</td>\n      <td>NaN</td>\n      <td>NaN</td>\n      <td>NaN</td>\n      <td>True</td>\n      <td>True</td>\n    </tr>\n    <tr>\n      <th>550</th>\n      <td>10.860</td>\n      <td>21.48</td>\n      <td>0.1661</td>\n      <td>0.05948</td>\n      <td>2.1150</td>\n      <td>24.77</td>\n      <td>412.3</td>\n      <td>NaN</td>\n      <td>NaN</td>\n      <td>NaN</td>\n      <td>NaN</td>\n      <td>NaN</td>\n      <td>True</td>\n      <td>True</td>\n    </tr>\n    <tr>\n      <th>551</th>\n      <td>11.130</td>\n      <td>22.44</td>\n      <td>0.2030</td>\n      <td>0.06552</td>\n      <td>1.9940</td>\n      <td>28.26</td>\n      <td>436.6</td>\n      <td>NaN</td>\n      <td>NaN</td>\n      <td>NaN</td>\n      <td>NaN</td>\n      <td>NaN</td>\n      <td>True</td>\n      <td>True</td>\n    </tr>\n    <tr>\n      <th>552</th>\n      <td>12.770</td>\n      <td>29.43</td>\n      <td>0.1539</td>\n      <td>0.05637</td>\n      <td>1.4770</td>\n      <td>36.00</td>\n      <td>594.7</td>\n      <td>NaN</td>\n      <td>NaN</td>\n      <td>NaN</td>\n      <td>NaN</td>\n      <td>NaN</td>\n      <td>True</td>\n      <td>True</td>\n    </tr>\n    <tr>\n      <th>553</th>\n      <td>9.333</td>\n      <td>21.94</td>\n      <td>0.1692</td>\n      <td>0.06576</td>\n      <td>2.1210</td>\n      <td>25.05</td>\n      <td>295.8</td>\n      <td>NaN</td>\n      <td>NaN</td>\n      <td>NaN</td>\n      <td>NaN</td>\n      <td>NaN</td>\n      <td>True</td>\n      <td>True</td>\n    </tr>\n    <tr>\n      <th>554</th>\n      <td>12.880</td>\n      <td>28.92</td>\n      <td>0.1566</td>\n      <td>0.05708</td>\n      <td>1.5020</td>\n      <td>35.74</td>\n      <td>595.7</td>\n      <td>NaN</td>\n      <td>NaN</td>\n      <td>NaN</td>\n      <td>NaN</td>\n      <td>NaN</td>\n      <td>True</td>\n      <td>True</td>\n    </tr>\n    <tr>\n      <th>555</th>\n      <td>10.290</td>\n      <td>27.61</td>\n      <td>0.1593</td>\n      <td>0.06127</td>\n      <td>1.4370</td>\n      <td>34.91</td>\n      <td>357.6</td>\n      <td>NaN</td>\n      <td>NaN</td>\n      <td>NaN</td>\n      <td>NaN</td>\n      <td>NaN</td>\n      <td>True</td>\n      <td>True</td>\n    </tr>\n    <tr>\n      <th>556</th>\n      <td>10.160</td>\n      <td>19.59</td>\n      <td>0.1791</td>\n      <td>0.06331</td>\n      <td>1.6480</td>\n      <td>22.88</td>\n      <td>347.3</td>\n      <td>NaN</td>\n      <td>NaN</td>\n      <td>NaN</td>\n      <td>NaN</td>\n      <td>NaN</td>\n      <td>True</td>\n      <td>True</td>\n    </tr>\n    <tr>\n      <th>557</th>\n      <td>9.423</td>\n      <td>27.88</td>\n      <td>0.1742</td>\n      <td>0.06059</td>\n      <td>3.6180</td>\n      <td>34.24</td>\n      <td>330.6</td>\n      <td>NaN</td>\n      <td>NaN</td>\n      <td>NaN</td>\n      <td>NaN</td>\n      <td>NaN</td>\n      <td>True</td>\n      <td>True</td>\n    </tr>\n    <tr>\n      <th>558</th>\n      <td>14.590</td>\n      <td>22.68</td>\n      <td>0.1454</td>\n      <td>0.06147</td>\n      <td>2.2240</td>\n      <td>27.27</td>\n      <td>733.5</td>\n      <td>NaN</td>\n      <td>NaN</td>\n      <td>NaN</td>\n      <td>NaN</td>\n      <td>NaN</td>\n      <td>True</td>\n      <td>True</td>\n    </tr>\n    <tr>\n      <th>559</th>\n      <td>11.510</td>\n      <td>23.93</td>\n      <td>0.1388</td>\n      <td>0.06570</td>\n      <td>1.9360</td>\n      <td>37.16</td>\n      <td>474.2</td>\n      <td>NaN</td>\n      <td>NaN</td>\n      <td>NaN</td>\n      <td>NaN</td>\n      <td>NaN</td>\n      <td>True</td>\n      <td>True</td>\n    </tr>\n    <tr>\n      <th>560</th>\n      <td>14.050</td>\n      <td>27.15</td>\n      <td>0.1537</td>\n      <td>0.06171</td>\n      <td>2.8880</td>\n      <td>33.17</td>\n      <td>706.7</td>\n      <td>NaN</td>\n      <td>NaN</td>\n      <td>NaN</td>\n      <td>NaN</td>\n      <td>NaN</td>\n      <td>True</td>\n      <td>True</td>\n    </tr>\n    <tr>\n      <th>561</th>\n      <td>11.200</td>\n      <td>29.37</td>\n      <td>0.1060</td>\n      <td>0.05502</td>\n      <td>2.0410</td>\n      <td>38.30</td>\n      <td>439.6</td>\n      <td>NaN</td>\n      <td>NaN</td>\n      <td>NaN</td>\n      <td>NaN</td>\n      <td>NaN</td>\n      <td>True</td>\n      <td>True</td>\n    </tr>\n    <tr>\n      <th>562</th>\n      <td>15.220</td>\n      <td>30.62</td>\n      <td>0.2128</td>\n      <td>0.07152</td>\n      <td>2.3620</td>\n      <td>42.79</td>\n      <td>915.0</td>\n      <td>NaN</td>\n      <td>NaN</td>\n      <td>NaN</td>\n      <td>NaN</td>\n      <td>NaN</td>\n      <td>False</td>\n      <td>True</td>\n    </tr>\n    <tr>\n      <th>563</th>\n      <td>20.920</td>\n      <td>25.09</td>\n      <td>0.2149</td>\n      <td>0.06879</td>\n      <td>8.7580</td>\n      <td>29.41</td>\n      <td>1819.0</td>\n      <td>NaN</td>\n      <td>NaN</td>\n      <td>NaN</td>\n      <td>NaN</td>\n      <td>NaN</td>\n      <td>False</td>\n      <td>True</td>\n    </tr>\n    <tr>\n      <th>564</th>\n      <td>21.560</td>\n      <td>22.39</td>\n      <td>0.1726</td>\n      <td>0.05623</td>\n      <td>7.6730</td>\n      <td>26.40</td>\n      <td>2027.0</td>\n      <td>NaN</td>\n      <td>NaN</td>\n      <td>NaN</td>\n      <td>NaN</td>\n      <td>NaN</td>\n      <td>False</td>\n      <td>True</td>\n    </tr>\n    <tr>\n      <th>565</th>\n      <td>20.130</td>\n      <td>28.25</td>\n      <td>0.1752</td>\n      <td>0.05533</td>\n      <td>5.2030</td>\n      <td>38.25</td>\n      <td>1731.0</td>\n      <td>NaN</td>\n      <td>NaN</td>\n      <td>NaN</td>\n      <td>NaN</td>\n      <td>NaN</td>\n      <td>False</td>\n      <td>True</td>\n    </tr>\n    <tr>\n      <th>566</th>\n      <td>16.600</td>\n      <td>28.08</td>\n      <td>0.1590</td>\n      <td>0.05648</td>\n      <td>3.4250</td>\n      <td>34.12</td>\n      <td>1124.0</td>\n      <td>NaN</td>\n      <td>NaN</td>\n      <td>NaN</td>\n      <td>NaN</td>\n      <td>NaN</td>\n      <td>False</td>\n      <td>True</td>\n    </tr>\n    <tr>\n      <th>567</th>\n      <td>20.600</td>\n      <td>29.33</td>\n      <td>0.2397</td>\n      <td>0.07016</td>\n      <td>5.7720</td>\n      <td>39.42</td>\n      <td>1821.0</td>\n      <td>NaN</td>\n      <td>NaN</td>\n      <td>NaN</td>\n      <td>NaN</td>\n      <td>NaN</td>\n      <td>False</td>\n      <td>True</td>\n    </tr>\n    <tr>\n      <th>568</th>\n      <td>7.760</td>\n      <td>24.54</td>\n      <td>0.1587</td>\n      <td>0.05884</td>\n      <td>2.5480</td>\n      <td>30.37</td>\n      <td>268.6</td>\n      <td>NaN</td>\n      <td>NaN</td>\n      <td>NaN</td>\n      <td>NaN</td>\n      <td>NaN</td>\n      <td>True</td>\n      <td>True</td>\n    </tr>\n  </tbody>\n</table>\n<p>569 rows × 14 columns</p>\n</div>"
     },
     "metadata": {},
     "output_type": "display_data"
    }
   ],
   "source": [
    "#Since data is small, make a copy\n",
    "data_temp = data\n",
    "\n",
    "# map columns to bool values\n",
    "GenderMap = {'Male':1, 'Female':0} #Apologies for the convention\n",
    "TargetMap = {'Y':1, 'N':0}\n",
    "\n",
    "data_temp['is_male'] = data_temp['Gender'].map(GenderMap).astype('bool')\n",
    "# data_temp.drop(labels='Gender',axis=1,inplace=True) #Probably unneccessary renaming of variables\n",
    "data_temp['target'] = data_temp['target'].map(TargetMap).astype('bool')\n",
    "\n",
    "display(data_temp)"
   ],
   "metadata": {
    "collapsed": false,
    "pycharm": {
     "name": "#%%\n"
    }
   }
  },
  {
   "cell_type": "code",
   "execution_count": 103,
   "outputs": [
    {
     "data": {
      "text/plain": "'For all rows'"
     },
     "metadata": {},
     "output_type": "display_data"
    },
    {
     "data": {
      "text/plain": "'Overall Counts'"
     },
     "metadata": {},
     "output_type": "display_data"
    },
    {
     "data": {
      "text/plain": "True     357\nFalse    212\nName: target, dtype: int64"
     },
     "metadata": {},
     "output_type": "display_data"
    },
    {
     "data": {
      "text/plain": "'Proportions'"
     },
     "metadata": {},
     "output_type": "display_data"
    },
    {
     "data": {
      "text/plain": "True     0.627417\nFalse    0.372583\nName: target, dtype: float64"
     },
     "execution_count": 103,
     "metadata": {},
     "output_type": "execute_result"
    }
   ],
   "source": [
    "#Deal with unknown values\n",
    "#Since we have the target field, see if there is any statistical correlation between target and missing\n",
    "display('For all rows')\n",
    "display('Overall Counts')\n",
    "display(data['target'].value_counts())\n",
    "display('Proportions')\n",
    "data['target'].value_counts(normalize=True)"
   ],
   "metadata": {
    "collapsed": false,
    "pycharm": {
     "name": "#%%\n"
    }
   }
  },
  {
   "cell_type": "code",
   "execution_count": 104,
   "outputs": [
    {
     "data": {
      "text/plain": "'For NA rows'"
     },
     "metadata": {},
     "output_type": "display_data"
    },
    {
     "data": {
      "text/plain": "'Overall Counts'"
     },
     "metadata": {},
     "output_type": "display_data"
    },
    {
     "data": {
      "text/plain": "True     97\nFalse    30\nName: target, dtype: int64"
     },
     "metadata": {},
     "output_type": "display_data"
    },
    {
     "data": {
      "text/plain": "'Proportions'"
     },
     "metadata": {},
     "output_type": "display_data"
    },
    {
     "data": {
      "text/plain": "True     0.76378\nFalse    0.23622\nName: target, dtype: float64"
     },
     "metadata": {},
     "output_type": "display_data"
    }
   ],
   "source": [
    "#All NA rows\n",
    "display('For NA rows')\n",
    "display('Overall Counts')\n",
    "display(data[data.isna().any(axis=1)]['target'].value_counts())\n",
    "display('Proportions')\n",
    "display(data[data.isna().any(axis=1)]['target'].value_counts(normalize=True))"
   ],
   "metadata": {
    "collapsed": false,
    "pycharm": {
     "name": "#%%\n"
    }
   }
  },
  {
   "cell_type": "code",
   "execution_count": 105,
   "outputs": [
    {
     "data": {
      "text/plain": "'For no NA rows'"
     },
     "metadata": {},
     "output_type": "display_data"
    },
    {
     "data": {
      "text/plain": "'Overall Counts'"
     },
     "metadata": {},
     "output_type": "display_data"
    },
    {
     "data": {
      "text/plain": "True     260\nFalse    182\nName: target, dtype: int64"
     },
     "metadata": {},
     "output_type": "display_data"
    },
    {
     "data": {
      "text/plain": "'Proportions'"
     },
     "metadata": {},
     "output_type": "display_data"
    },
    {
     "data": {
      "text/plain": "True     0.588235\nFalse    0.411765\nName: target, dtype: float64"
     },
     "metadata": {},
     "output_type": "display_data"
    }
   ],
   "source": [
    "#Non NA rows\n",
    "display('For no NA rows')\n",
    "display('Overall Counts')\n",
    "display(data.dropna()['target'].value_counts())\n",
    "display('Proportions')\n",
    "display(data.dropna()['target'].value_counts(normalize=True))"
   ],
   "metadata": {
    "collapsed": false,
    "pycharm": {
     "name": "#%%\n"
    }
   }
  },
  {
   "cell_type": "markdown",
   "source": [
    "The proportions do seem to be different, so we will return to this later\n"
   ],
   "metadata": {
    "collapsed": false,
    "pycharm": {
     "name": "#%% md\n"
    }
   }
  },
  {
   "cell_type": "code",
   "execution_count": null,
   "metadata": {
    "collapsed": true
   },
   "outputs": [],
   "source": [
    "#Non NA rows\n",
    "display('For no NA rows')\n",
    "display('Overall Counts')\n",
    "display(data.dropna()['target'].value_counts())\n",
    "display('Proportions')\n",
    "display(data.dropna()['target'].value_counts(normalize=True))"
   ]
  },
  {
   "cell_type": "markdown",
   "metadata": {},
   "source": [
    "Once the tools we are using have been imported, let's import the data file"
   ]
  },
  {
   "cell_type": "code",
   "execution_count": null,
   "metadata": {},
   "outputs": [],
   "source": [
    "#Open Data file\n",
    "data = pd.read_csv(\"analysis_data\",sep=',')"
   ]
  }
 ],
 "metadata": {
  "kernelspec": {
   "display_name": "Python 3",
   "language": "python",
   "name": "python3"
  },
  "language_info": {
   "codemirror_mode": {
    "name": "ipython",
    "version": 3
   },
   "file_extension": ".py",
   "mimetype": "text/x-python",
   "name": "python",
   "nbconvert_exporter": "python",
   "pygments_lexer": "ipython3",
   "version": "3.7.3"
  }
 },
 "nbformat": 4,
 "nbformat_minor": 1
}